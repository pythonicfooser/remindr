{
 "cells": [
  {
   "cell_type": "code",
   "execution_count": 8,
   "metadata": {},
   "outputs": [
    {
     "name": "stdout",
     "output_type": "stream",
     "text": [
      "foo@example.com\n",
      "Foo\n",
      "{'__module__': '__main__', '__init__': <function Parent.__init__ at 0x7fe2d35ce2f0>, 'get_age': <function Parent.get_age at 0x7fe2d35ce598>, '__dict__': <attribute '__dict__' of 'Parent' objects>, '__weakref__': <attribute '__weakref__' of 'Parent' objects>, '__doc__': None}\n",
      "{'__module__': '__main__', '__init__': <function Child.__init__ at 0x7fe2d35ce620>, 'get_age': <function Child.get_age at 0x7fe2d35ce510>, '__doc__': None}\n",
      "{'__module__': '__main__', '__init__': <function ChildTwo.__init__ at 0x7fe2d35ce7b8>, '__doc__': None}\n",
      "23\n"
     ]
    }
   ],
   "source": [
    "# Test auto-push\n",
    "#  Overriding means altering or replacing a method of the superclass with a new method\n",
    "\n",
    "class Parent():\n",
    "    def __init__(self, name, age):\n",
    "        self.name = name\n",
    "        self.age = age\n",
    "        \n",
    "    def get_age(self):\n",
    "        print(self.age)\n",
    "\n",
    "class Child(Parent):\n",
    "    def __init__(self, name, age, email):\n",
    "        super().__init__(name, age)\n",
    "        self.email = email\n",
    "        \n",
    "    # Method overrided from parent changing behaviour\n",
    "    def get_age(self):\n",
    "        print(self.age + 1)\n",
    "        \n",
    "        \n",
    "class ChildTwo(Parent):\n",
    "    # Like Child class, but without overriding method\n",
    "    def __init__(self, name=None, age=None, email=None):\n",
    "        super().__init__(name, age)\n",
    "        self.email = email\n",
    "\n",
    "p = Parent(\"Foo\", 20)\n",
    "c = Child(\"Faa\", 22, \"foo@example.com\")\n",
    "c_two = ChildTwo(\"Feng\", 23, \"feng@example.com\")\n",
    "\n",
    "print(c.email)\n",
    "print(p.name)\n",
    "\n",
    "# Something interesting with method override is that the overrided method\n",
    "# of class Child is in a different memory position.\n",
    "print(Parent.__dict__)\n",
    "print(Child.__dict__)\n",
    "\n",
    "# With ChildTwo the get_age method is not being seen, but we could use it.\n",
    "print(ChildTwo.__dict__)\n",
    "c_two.get_age()\n",
    "\n"
   ]
  },
  {
   "cell_type": "code",
   "execution_count": 11,
   "metadata": {},
   "outputs": [
    {
     "name": "stdout",
     "output_type": "stream",
     "text": [
      "Dog has four legs.\n",
      "Makinen is a warm-blooded animal.\n"
     ]
    }
   ],
   "source": [
    "class Mammal(object):\n",
    "    def __init__(self, mammalName):\n",
    "        print(mammalName, 'is a warm-blooded animal.')\n",
    "    \n",
    "class Dog(Mammal):\n",
    "    def __init__(self):\n",
    "        print('Dog has four legs.')\n",
    "        super().__init__('Makinen')\n",
    "    \n",
    "d1 = Dog()"
   ]
  },
  {
   "cell_type": "code",
   "execution_count": null,
   "metadata": {},
   "outputs": [],
   "source": []
  }
 ],
 "metadata": {
  "kernelspec": {
   "display_name": "Python 3",
   "language": "python",
   "name": "python3"
  },
  "language_info": {
   "codemirror_mode": {
    "name": "ipython",
    "version": 3
   },
   "file_extension": ".py",
   "mimetype": "text/x-python",
   "name": "python",
   "nbconvert_exporter": "python",
   "pygments_lexer": "ipython3",
   "version": "3.7.3"
  }
 },
 "nbformat": 4,
 "nbformat_minor": 2
}
