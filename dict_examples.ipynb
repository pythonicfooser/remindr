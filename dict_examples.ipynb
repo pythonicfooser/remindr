{
 "cells": [
  {
   "cell_type": "code",
   "execution_count": 32,
   "metadata": {},
   "outputs": [
    {
     "name": "stdout",
     "output_type": "stream",
     "text": [
      "proof_val\n",
      "{'hey': 'ho', 'lets': 'go'}\n",
      "['hey', 'lets']\n",
      "foo bar\n"
     ]
    },
    {
     "data": {
      "text/plain": [
       "[None]"
      ]
     },
     "execution_count": 32,
     "metadata": {},
     "output_type": "execute_result"
    }
   ],
   "source": [
    "# Syntax sugar, this is calling to dict()\n",
    "\n",
    "def dict_unpacker(proof_key=None):\n",
    "    \"\"\" This fuction is used for unpacking the dictionary\n",
    "    with key and value, in this case the proof_key will act\n",
    "    as the 'key' that receives the value from the dict key\n",
    "    \n",
    "    The double * is \"throwing\" all the stuff from the dict,\n",
    "    the key and the value too.\n",
    "    \"\"\"\n",
    "    print(proof_key)\n",
    "    \n",
    "simple_dict = {}\n",
    "another_dict = {\"proof_key\": \"proof_val\"}\n",
    "\n",
    "simple_dict['foo'] = \"bar\"\n",
    "dict_unpacker(**another_dict)\n",
    "\n",
    "dict_one = {\"hey\": \"ho\"}\n",
    "dict_two = {\"lets\": \"go\"}\n",
    "\n",
    "# Here we are merging two dicts creating a new one, with the\n",
    "# data from dict_one and dict_two.\n",
    "fusion_dict = {**dict_one, **dict_two}\n",
    "print(fusion_dict)\n",
    "# And here we are going to create a new list with all the keys\n",
    "# from the dicts.\n",
    "key_list = [*dict_one, *dict_two]\n",
    "print(key_list)\n",
    "\n",
    "[print(k, v) for k, v in simple_dict.items()]"
   ]
  },
  {
   "cell_type": "code",
   "execution_count": 17,
   "metadata": {},
   "outputs": [
    {
     "name": "stdout",
     "output_type": "stream",
     "text": [
      "{'hey': 'ho'}\n"
     ]
    }
   ],
   "source": [
    "# And now time to remove a part of the dict\n",
    "fusion_dict.pop('lets')\n",
    "print(fusion_dict)"
   ]
  },
  {
   "cell_type": "code",
   "execution_count": 25,
   "metadata": {},
   "outputs": [
    {
     "name": "stdout",
     "output_type": "stream",
     "text": [
      "{'hi': 'you'}\n",
      "{'hi': 'you', 'code': 'guy'}\n"
     ]
    }
   ],
   "source": [
    "# And we could use update for adding more data to the\n",
    "# first dict\n",
    "more_dict_one = {\"hi\": \"you\"}\n",
    "more_dict_two = {\"code\": \"guy\"}\n",
    "\n",
    "print(more_dict_one)\n",
    "more_dict_one.update(more_dict_two)\n",
    "print(more_dict_one)"
   ]
  },
  {
   "cell_type": "code",
   "execution_count": 33,
   "metadata": {},
   "outputs": [
    {
     "name": "stdout",
     "output_type": "stream",
     "text": [
      "Key not found\n"
     ]
    }
   ],
   "source": [
    "# And one of the simplest exceptions\n",
    "try:\n",
    "    print(dict_one['foo'])\n",
    "except KeyError as ex:\n",
    "    print(\"Key not found\")"
   ]
  },
  {
   "cell_type": "code",
   "execution_count": 50,
   "metadata": {},
   "outputs": [
    {
     "data": {
      "text/plain": [
       "['0: <object object at 0x7f3541d2b040>', '1: 42', '2: Hell']"
      ]
     },
     "execution_count": 50,
     "metadata": {},
     "output_type": "execute_result"
    }
   ],
   "source": [
    "multiple_stuff_dict = dict()\n",
    "mr_foo = object()\n",
    "number = 42\n",
    "string_proof = \"Hell\"\n",
    "weird_list = [mr_foo, number, string_proof]\n",
    "\n",
    "for index, value in enumerate(weird_list):\n",
    "    multiple_stuff_dict[index] = value\n",
    "    \n",
    "[f\"{k}: {v}\" for k, v in multiple_stuff_dict.items()]"
   ]
  },
  {
   "cell_type": "code",
   "execution_count": null,
   "metadata": {},
   "outputs": [],
   "source": []
  }
 ],
 "metadata": {
  "kernelspec": {
   "display_name": "Python 3",
   "language": "python",
   "name": "python3"
  },
  "language_info": {
   "codemirror_mode": {
    "name": "ipython",
    "version": 3
   },
   "file_extension": ".py",
   "mimetype": "text/x-python",
   "name": "python",
   "nbconvert_exporter": "python",
   "pygments_lexer": "ipython3",
   "version": "3.7.3"
  }
 },
 "nbformat": 4,
 "nbformat_minor": 2
}
