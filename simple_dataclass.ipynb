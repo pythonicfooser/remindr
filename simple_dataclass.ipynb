{
 "cells": [
  {
   "cell_type": "code",
   "execution_count": 6,
   "metadata": {},
   "outputs": [
    {
     "data": {
      "text/plain": [
       "{'1': 'The proof'}"
      ]
     },
     "execution_count": 6,
     "metadata": {},
     "output_type": "execute_result"
    }
   ],
   "source": [
    "from dataclasses import dataclass\n",
    "\n",
    "# Basic Python dataclass\n",
    "@dataclass\n",
    "class Book:\n",
    "    \"\"\"This, under the hood, will \"generate\" methods like \n",
    "    the __init__ for these atributes, like: \n",
    "    def __init__(self, author: str, ... etc)\"\"\"\n",
    "    author: str\n",
    "    pages: int\n",
    "    publisher: str\n",
    "    chapters: dict\n",
    "        \n",
    "book = Book(\"Foobar\", 120, \"Void Books Inc\", {\"1\": \"The proof\"})\n",
    "book.chapters"
   ]
  },
  {
   "cell_type": "code",
   "execution_count": null,
   "metadata": {},
   "outputs": [],
   "source": []
  }
 ],
 "metadata": {
  "kernelspec": {
   "display_name": "Python 3",
   "language": "python",
   "name": "python3"
  },
  "language_info": {
   "codemirror_mode": {
    "name": "ipython",
    "version": 3
   },
   "file_extension": ".py",
   "mimetype": "text/x-python",
   "name": "python",
   "nbconvert_exporter": "python",
   "pygments_lexer": "ipython3",
   "version": "3.7.3"
  }
 },
 "nbformat": 4,
 "nbformat_minor": 2
}
