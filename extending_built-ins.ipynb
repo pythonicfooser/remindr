{
 "cells": [
  {
   "cell_type": "code",
   "execution_count": 7,
   "metadata": {},
   "outputs": [
    {
     "name": "stdout",
     "output_type": "stream",
     "text": [
      "<class '__main__.Foo'> <class '__main__.Bar'>\n",
      "(<class '__main__.Foo'>, <class 'list'>, <class 'object'>)\n",
      "(<class '__main__.Bar'>, <class 'dict'>, <class 'object'>)\n",
      "<class 'list'>\n",
      "<class 'dict'>\n",
      "['__add__', '__class__', '__contains__', '__delattr__', '__delitem__', '__dict__', '__dir__', '__doc__', '__eq__', '__format__', '__ge__', '__getattribute__', '__getitem__', '__gt__', '__hash__', '__iadd__', '__imul__', '__init__', '__init_subclass__', '__iter__', '__le__', '__len__', '__lt__', '__module__', '__mul__', '__ne__', '__new__', '__reduce__', '__reduce_ex__', '__repr__', '__reversed__', '__rmul__', '__setattr__', '__setitem__', '__sizeof__', '__str__', '__subclasshook__', '__weakref__', 'append', 'clear', 'copy', 'count', 'extend', 'index', 'insert', 'pop', 'remove', 'reverse', 'sort']\n",
      "['__class__', '__contains__', '__delattr__', '__delitem__', '__dict__', '__dir__', '__doc__', '__eq__', '__format__', '__ge__', '__getattribute__', '__getitem__', '__gt__', '__hash__', '__init__', '__init_subclass__', '__iter__', '__le__', '__len__', '__lt__', '__module__', '__ne__', '__new__', '__reduce__', '__reduce_ex__', '__repr__', '__setattr__', '__setitem__', '__sizeof__', '__str__', '__subclasshook__', '__weakref__', 'clear', 'copy', 'fromkeys', 'get', 'items', 'keys', 'pop', 'popitem', 'setdefault', 'update', 'values']\n"
     ]
    }
   ],
   "source": [
    "# Reminder:\n",
    "# __stuffhere__ -> is typically reserved for builtin methods or variables. Convention stuff.\n",
    "\n",
    "class Foo(list):\n",
    "    pass\n",
    "\n",
    "class Bar(dict):\n",
    "    pass\n",
    "\n",
    "\n",
    "f = Foo()\n",
    "b = Bar()\n",
    "\n",
    "print(type(f), type(b))\n",
    "# Print all parent classes from class Foo and Bar\n",
    "print(Foo.__mro__)\n",
    "print(Bar.__mro__)\n",
    "# Print the \"first parent\" class from Foo and Bar\n",
    "print(Foo.__base__)\n",
    "print(Bar.__base__)\n",
    "\n",
    "\n",
    "print(dir(f))\n",
    "print(dir(b))"
   ]
  },
  {
   "cell_type": "code",
   "execution_count": null,
   "metadata": {},
   "outputs": [],
   "source": []
  }
 ],
 "metadata": {
  "kernelspec": {
   "display_name": "Python 3",
   "language": "python",
   "name": "python3"
  },
  "language_info": {
   "codemirror_mode": {
    "name": "ipython",
    "version": 3
   },
   "file_extension": ".py",
   "mimetype": "text/x-python",
   "name": "python",
   "nbconvert_exporter": "python",
   "pygments_lexer": "ipython3",
   "version": "3.7.3"
  }
 },
 "nbformat": 4,
 "nbformat_minor": 2
}
