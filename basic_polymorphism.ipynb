{
 "cells": [
  {
   "cell_type": "code",
   "execution_count": null,
   "metadata": {},
   "outputs": [],
   "source": [
    "class Vehicle():\n",
    "    def run_vehicle(self):\n",
    "        print(\"Vehicle run\")\n",
    "        \n",
    "class Moto():\n",
    "    def run_vehicle(self):\n",
    "        print(\"Vehicle run\")\n",
    "        \n",
    "class Boat():\n",
    "    def run_vehicle(self):\n",
    "        print(\"Vehicle run\")\n",
    "        \n",
    "        \n",
    "def vehicleMoves()"
   ]
  }
 ],
 "metadata": {
  "kernelspec": {
   "display_name": "Python 3",
   "language": "python",
   "name": "python3"
  },
  "language_info": {
   "codemirror_mode": {
    "name": "ipython",
    "version": 3
   },
   "file_extension": ".py",
   "mimetype": "text/x-python",
   "name": "python",
   "nbconvert_exporter": "python",
   "pygments_lexer": "ipython3",
   "version": "3.7.3"
  }
 },
 "nbformat": 4,
 "nbformat_minor": 2
}
