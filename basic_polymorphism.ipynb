{
 "cells": [
  {
   "cell_type": "code",
   "execution_count": 1,
   "metadata": {},
   "outputs": [
    {
     "name": "stdout",
     "output_type": "stream",
     "text": [
      "Yamaha YZF run with two wheels\n",
      "Riva run with... no wheels\n",
      "Mazda RX8 run with four wheels\n"
     ]
    }
   ],
   "source": [
    "# Maybe one of the most basic examples of polymorphism.\n",
    "# An object could have different behaviours depending\n",
    "# on the context that is being used.\n",
    "class Vehicle():\n",
    "    def __init__(self, model):\n",
    "        self.model = model\n",
    "    def run_vehicle(self):\n",
    "        pass\n",
    "    \n",
    "class Car(Vehicle):\n",
    "    def run_vehicle(self):\n",
    "        print(f\"{self.model} run with four wheels\")\n",
    "        \n",
    "class Moto(Vehicle):\n",
    "    def run_vehicle(self):\n",
    "        print(f\"{self.model} run with two wheels\")\n",
    "        \n",
    "class Boat(Vehicle):\n",
    "    def run_vehicle(self):\n",
    "        print(f\"{self.model} run with... no wheels\")\n",
    "        \n",
    "\n",
    "vehicles = [Moto(\"Yamaha YZF\"), Boat(\"Riva\"), Car(\"Mazda RX8\")]\n",
    "\n",
    "# Here each type of object vehicle will have different\n",
    "# behaviour (remember, methods).\n",
    "for v in vehicles:\n",
    "    v.run_vehicle()"
   ]
  },
  {
   "cell_type": "code",
   "execution_count": null,
   "metadata": {},
   "outputs": [],
   "source": []
  },
  {
   "cell_type": "code",
   "execution_count": null,
   "metadata": {},
   "outputs": [],
   "source": []
  },
  {
   "cell_type": "code",
   "execution_count": null,
   "metadata": {},
   "outputs": [],
   "source": []
  },
  {
   "cell_type": "code",
   "execution_count": null,
   "metadata": {},
   "outputs": [],
   "source": []
  },
  {
   "cell_type": "code",
   "execution_count": null,
   "metadata": {},
   "outputs": [],
   "source": []
  }
 ],
 "metadata": {
  "kernelspec": {
   "display_name": "Python 3",
   "language": "python",
   "name": "python3"
  },
  "language_info": {
   "codemirror_mode": {
    "name": "ipython",
    "version": 3
   },
   "file_extension": ".py",
   "mimetype": "text/x-python",
   "name": "python",
   "nbconvert_exporter": "python",
   "pygments_lexer": "ipython3",
   "version": "3.7.3"
  }
 },
 "nbformat": 4,
 "nbformat_minor": 4
}
