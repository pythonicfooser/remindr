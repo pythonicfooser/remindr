{
 "cells": [
  {
   "cell_type": "code",
   "execution_count": 16,
   "metadata": {},
   "outputs": [],
   "source": [
    "from abc import ABC, abstractmethod\n",
    "# Abstract classes are classes that contain one or more \n",
    "# abstract methods, these methods are declared but they\n",
    "# don't contain any implementation\n",
    "\n",
    "class Human(ABC):\n",
    "    def __init__(self, name=None):\n",
    "        self.name = name\n",
    "        \n",
    "    @abstractmethod\n",
    "    def say_name(self):\n",
    "        pass\n",
    "    \n",
    "class Child(Human):\n",
    "    pass\n",
    "        \n",
    "class Guy(Human):\n",
    "    def say_name(self):\n",
    "        print(self.name)"
   ]
  },
  {
   "cell_type": "code",
   "execution_count": 24,
   "metadata": {},
   "outputs": [
    {
     "ename": "TypeError",
     "evalue": "Can't instantiate abstract class Child with abstract methods say_name",
     "output_type": "error",
     "traceback": [
      "\u001b[0;31m---------------------------------------------------------------------------\u001b[0m",
      "\u001b[0;31mTypeError\u001b[0m                                 Traceback (most recent call last)",
      "\u001b[0;32m<ipython-input-24-ffc0cd7937ea>\u001b[0m in \u001b[0;36m<module>\u001b[0;34m\u001b[0m\n\u001b[1;32m      3\u001b[0m \u001b[0;31m# ABC -> Abstract Class) doesn´t implements the abstract\u001b[0m\u001b[0;34m\u001b[0m\u001b[0;34m\u001b[0m\u001b[0;34m\u001b[0m\u001b[0m\n\u001b[1;32m      4\u001b[0m \u001b[0;31m# method say_name()\u001b[0m\u001b[0;34m\u001b[0m\u001b[0;34m\u001b[0m\u001b[0;34m\u001b[0m\u001b[0m\n\u001b[0;32m----> 5\u001b[0;31m \u001b[0mhu\u001b[0m \u001b[0;34m=\u001b[0m \u001b[0mChild\u001b[0m\u001b[0;34m(\u001b[0m\u001b[0;34m\"Foobar\"\u001b[0m\u001b[0;34m)\u001b[0m\u001b[0;34m\u001b[0m\u001b[0;34m\u001b[0m\u001b[0m\n\u001b[0m",
      "\u001b[0;31mTypeError\u001b[0m: Can't instantiate abstract class Child with abstract methods say_name"
     ]
    }
   ],
   "source": [
    "# In this example the execution will fail because the\n",
    "# abstract method on the Child class (inherits from an\n",
    "# ABC -> Abstract Class) doesn´t implements the abstract\n",
    "# method say_name()\n",
    "hu = Child(\"Foobar\")"
   ]
  },
  {
   "cell_type": "code",
   "execution_count": 22,
   "metadata": {},
   "outputs": [
    {
     "name": "stdout",
     "output_type": "stream",
     "text": [
      "Fooheim\n"
     ]
    }
   ],
   "source": [
    "# But using the Guy class, we could do it without problems,\n",
    "# because it implements the say_name method:\n",
    "hu_two = Guy(\"Fooheim\")\n",
    "hu_two.say_name()\n",
    "# A class that inherits from an abstract class could't be\n",
    "# instantiated without overriding the abstract methods."
   ]
  },
  {
   "cell_type": "code",
   "execution_count": null,
   "metadata": {},
   "outputs": [],
   "source": []
  }
 ],
 "metadata": {
  "kernelspec": {
   "display_name": "Python 3",
   "language": "python",
   "name": "python3"
  },
  "language_info": {
   "codemirror_mode": {
    "name": "ipython",
    "version": 3
   },
   "file_extension": ".py",
   "mimetype": "text/x-python",
   "name": "python",
   "nbconvert_exporter": "python",
   "pygments_lexer": "ipython3",
   "version": "3.7.3"
  }
 },
 "nbformat": 4,
 "nbformat_minor": 2
}
